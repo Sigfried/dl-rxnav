{
 "cells": [
  {
   "cell_type": "code",
   "execution_count": 6,
   "id": "1854786e-5586-42d3-8bd2-c77f328a6ac8",
   "metadata": {},
   "outputs": [
    {
     "name": "stdout",
     "output_type": "stream",
     "text": [
      "calling https://rxnav.nlm.nih.gov/REST/rxcui/8640/related.json?tty=SCDF\n"
     ]
    },
    {
     "data": {
      "text/html": [
       "<div>\n",
       "<style scoped>\n",
       "    .dataframe tbody tr th:only-of-type {\n",
       "        vertical-align: middle;\n",
       "    }\n",
       "\n",
       "    .dataframe tbody tr th {\n",
       "        vertical-align: top;\n",
       "    }\n",
       "\n",
       "    .dataframe thead th {\n",
       "        text-align: right;\n",
       "    }\n",
       "</style>\n",
       "<table border=\"1\" class=\"dataframe\">\n",
       "  <thead>\n",
       "    <tr style=\"text-align: right;\">\n",
       "      <th></th>\n",
       "      <th>tty</th>\n",
       "      <th>rxcui</th>\n",
       "      <th>name</th>\n",
       "    </tr>\n",
       "  </thead>\n",
       "  <tbody>\n",
       "    <tr>\n",
       "      <th>0</th>\n",
       "      <td>SCDF</td>\n",
       "      <td>373583</td>\n",
       "      <td>prednisone Oral Solution</td>\n",
       "    </tr>\n",
       "    <tr>\n",
       "      <th>1</th>\n",
       "      <td>SCDF</td>\n",
       "      <td>373585</td>\n",
       "      <td>prednisone Oral Tablet</td>\n",
       "    </tr>\n",
       "    <tr>\n",
       "      <th>2</th>\n",
       "      <td>SCDF</td>\n",
       "      <td>1303124</td>\n",
       "      <td>prednisone Delayed Release Oral Tablet</td>\n",
       "    </tr>\n",
       "  </tbody>\n",
       "</table>\n",
       "</div>"
      ],
      "text/plain": [
       "    tty    rxcui                                    name\n",
       "0  SCDF   373583                prednisone Oral Solution\n",
       "1  SCDF   373585                  prednisone Oral Tablet\n",
       "2  SCDF  1303124  prednisone Delayed Release Oral Tablet"
      ]
     },
     "metadata": {},
     "output_type": "display_data"
    }
   ],
   "source": [
    "import requests\n",
    "import pprint\n",
    "import pandas as pd\n",
    "pp = pprint.PrettyPrinter(indent=2, compact=False) #width=75)#, compact=True)\n",
    "\n",
    "BASE_URL = \"https://rxnav.nlm.nih.gov\"\n",
    "\n",
    "rxcui = 8640\n",
    "\n",
    "#call = f\"{BASE_URL}/REST/rxcui/{rxcui}/related.json?rela=ingredient_of\" #tty=MIN+DFG+DF\" # +SBD\n",
    "call = f\"{BASE_URL}/REST/rxcui/{rxcui}/related.json?tty=SCDF\" #tty=MIN+DFG+DF\" # +SBD\n",
    "print(f\"calling {call}\")\n",
    "data = requests.get(call).json()\n",
    "data = data['relatedGroup']['conceptGroup']\n",
    "data = [d['conceptProperties'] for d in data if 'conceptProperties' in d]\n",
    "data = [item for sublist in data for item in sublist]\n",
    "\n",
    "df = pd.DataFrame(data, columns=['tty','rxcui','name'])\n",
    "display(df)\n",
    "#pp.pprint(data)\n"
   ]
  },
  {
   "cell_type": "code",
   "execution_count": 8,
   "id": "2c95fe68-4b9b-4685-a4d2-04f6cab9fa31",
   "metadata": {},
   "outputs": [
    {
     "name": "stdout",
     "output_type": "stream",
     "text": [
      "['373583', '373585', '1303124']\n"
     ]
    }
   ],
   "source": [
    "print(list(df.rxcui))"
   ]
  },
  {
   "cell_type": "code",
   "execution_count": 9,
   "id": "ebd10f00",
   "metadata": {},
   "outputs": [
    {
     "data": {
      "text/html": [
       "<div>\n",
       "<style scoped>\n",
       "    .dataframe tbody tr th:only-of-type {\n",
       "        vertical-align: middle;\n",
       "    }\n",
       "\n",
       "    .dataframe tbody tr th {\n",
       "        vertical-align: top;\n",
       "    }\n",
       "\n",
       "    .dataframe thead th {\n",
       "        text-align: right;\n",
       "    }\n",
       "</style>\n",
       "<table border=\"1\" class=\"dataframe\">\n",
       "  <thead>\n",
       "    <tr style=\"text-align: right;\">\n",
       "      <th></th>\n",
       "      <th>tty</th>\n",
       "      <th>rxcui</th>\n",
       "      <th>name</th>\n",
       "    </tr>\n",
       "  </thead>\n",
       "  <tbody>\n",
       "    <tr>\n",
       "      <th>0</th>\n",
       "      <td>DF</td>\n",
       "      <td>316968</td>\n",
       "      <td>Oral Solution</td>\n",
       "    </tr>\n",
       "  </tbody>\n",
       "</table>\n",
       "</div>"
      ],
      "text/plain": [
       "  tty   rxcui           name\n",
       "0  DF  316968  Oral Solution"
      ]
     },
     "metadata": {},
     "output_type": "display_data"
    },
    {
     "data": {
      "text/html": [
       "<div>\n",
       "<style scoped>\n",
       "    .dataframe tbody tr th:only-of-type {\n",
       "        vertical-align: middle;\n",
       "    }\n",
       "\n",
       "    .dataframe tbody tr th {\n",
       "        vertical-align: top;\n",
       "    }\n",
       "\n",
       "    .dataframe thead th {\n",
       "        text-align: right;\n",
       "    }\n",
       "</style>\n",
       "<table border=\"1\" class=\"dataframe\">\n",
       "  <thead>\n",
       "    <tr style=\"text-align: right;\">\n",
       "      <th></th>\n",
       "      <th>tty</th>\n",
       "      <th>rxcui</th>\n",
       "      <th>name</th>\n",
       "    </tr>\n",
       "  </thead>\n",
       "  <tbody>\n",
       "    <tr>\n",
       "      <th>0</th>\n",
       "      <td>DF</td>\n",
       "      <td>317541</td>\n",
       "      <td>Oral Tablet</td>\n",
       "    </tr>\n",
       "  </tbody>\n",
       "</table>\n",
       "</div>"
      ],
      "text/plain": [
       "  tty   rxcui         name\n",
       "0  DF  317541  Oral Tablet"
      ]
     },
     "metadata": {},
     "output_type": "display_data"
    },
    {
     "data": {
      "text/html": [
       "<div>\n",
       "<style scoped>\n",
       "    .dataframe tbody tr th:only-of-type {\n",
       "        vertical-align: middle;\n",
       "    }\n",
       "\n",
       "    .dataframe tbody tr th {\n",
       "        vertical-align: top;\n",
       "    }\n",
       "\n",
       "    .dataframe thead th {\n",
       "        text-align: right;\n",
       "    }\n",
       "</style>\n",
       "<table border=\"1\" class=\"dataframe\">\n",
       "  <thead>\n",
       "    <tr style=\"text-align: right;\">\n",
       "      <th></th>\n",
       "      <th>tty</th>\n",
       "      <th>rxcui</th>\n",
       "      <th>name</th>\n",
       "    </tr>\n",
       "  </thead>\n",
       "  <tbody>\n",
       "    <tr>\n",
       "      <th>0</th>\n",
       "      <td>DF</td>\n",
       "      <td>10312</td>\n",
       "      <td>Delayed Release Oral Tablet</td>\n",
       "    </tr>\n",
       "  </tbody>\n",
       "</table>\n",
       "</div>"
      ],
      "text/plain": [
       "  tty  rxcui                         name\n",
       "0  DF  10312  Delayed Release Oral Tablet"
      ]
     },
     "metadata": {},
     "output_type": "display_data"
    }
   ],
   "source": [
    "for rxcui in list(df.rxcui):\n",
    "    call = f\"{BASE_URL}/REST/rxcui/{rxcui}/related.json?tty=DF\" \n",
    "    data = requests.get(call).json()\n",
    "    data = data['relatedGroup']['conceptGroup']\n",
    "    data = [d['conceptProperties'] for d in data if 'conceptProperties' in d]\n",
    "    data = [item for sublist in data for item in sublist]\n",
    "\n",
    "    df = pd.DataFrame(data, columns=['tty','rxcui','name'])\n",
    "    display(df)"
   ]
  },
  {
   "cell_type": "code",
   "execution_count": null,
   "id": "e00aa07b",
   "metadata": {},
   "outputs": [],
   "source": []
  }
 ],
 "metadata": {
  "kernelspec": {
   "display_name": "Python 3 (ipykernel)",
   "language": "python",
   "name": "python3"
  },
  "language_info": {
   "codemirror_mode": {
    "name": "ipython",
    "version": 3
   },
   "file_extension": ".py",
   "mimetype": "text/x-python",
   "name": "python",
   "nbconvert_exporter": "python",
   "pygments_lexer": "ipython3",
   "version": "3.9.6"
  }
 },
 "nbformat": 4,
 "nbformat_minor": 5
}
